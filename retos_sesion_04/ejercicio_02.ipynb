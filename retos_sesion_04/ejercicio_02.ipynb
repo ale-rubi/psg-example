{
 "cells": [
  {
   "cell_type": "markdown",
   "metadata": {},
   "source": [
    "# Ejercicio 2\n",
    "Crea un archivo \"ejercicio_02.ipynb\", añade un texto **markdown** con la descripción del ejercicio \"2\" y crea una imagen utilizando *símbolos y prints* **Símbolos: * - , () \\ | / _ \" ' = C**"
   ]
  },
  {
   "cell_type": "code",
   "execution_count": null,
   "metadata": {},
   "outputs": [],
   "source": [
    "print (\" (()(())\")\n",
    "print (\" ((=*_*)/')\")\n",
    "print (\"C(,,)(,,)\")"
   ]
  }
 ],
 "metadata": {
  "language_info": {
   "name": "python"
  }
 },
 "nbformat": 4,
 "nbformat_minor": 2
}
