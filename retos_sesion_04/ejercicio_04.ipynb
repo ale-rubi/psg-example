{
 "cells": [
  {
   "cell_type": "markdown",
   "metadata": {},
   "source": [
    "# El juego de las carreritas \n",
    "*Este juego se trata de avanzar hasta llegar a la meta, quien responda mas preguntas y avanze hasta la meta ganara!*"
   ]
  },
  {
   "cell_type": "markdown",
   "metadata": {},
   "source": [
    "### **Reglas del Juego**\n",
    "1. Se debe elaborar de forma aleatoria una serie de preguntas relacionadas a cierto tema, por ejemplo programacion en python\n",
    "2. El juego inicia con todos en la salida \n",
    "3. De inmediato el encargado de leer en voz alta las pregutas inician sin orden en especifico\n",
    "4. No se puede consultar el internet para responder las preguntas\n",
    "5. No se puede hacer la misma pregunta dos veces\n",
    "6. Solo un jugador puede responder correctamente\n",
    "7. Quien responda correctamente la pregunta avanzara una casilla\n",
    "8. Gana quien llegue primero "
   ]
  },
  {
   "cell_type": "markdown",
   "metadata": {},
   "source": [
    "#### Tablero del Juego"
   ]
  },
  {
   "cell_type": "code",
   "execution_count": 1,
   "metadata": {},
   "outputs": [
    {
     "name": "stdout",
     "output_type": "stream",
     "text": [
      "|--------|\n",
      "|        |\n",
      "|        |\n",
      "|        |\n",
      "|--------|\n"
     ]
    }
   ],
   "source": [
    "print(\"|--------|\")\n",
    "print(\"|        |\")\n",
    "print(\"|        |\")\n",
    "print(\"|        |\")\n",
    "print(\"|--------|\")"
   ]
  },
  {
   "cell_type": "markdown",
   "metadata": {},
   "source": [
    "#### Piezas de los jugadores"
   ]
  },
  {
   "cell_type": "code",
   "execution_count": 3,
   "metadata": {},
   "outputs": [
    {
     "name": "stdout",
     "output_type": "stream",
     "text": [
      "ᓚᘏᗢ\n",
      "ฅʕ•̫͡•ʔฅ\n",
      "ϵ( ‘Θ’ )϶\n",
      "(°°)～\n",
      "( ⓛ ω ⓛ *)\n"
     ]
    }
   ],
   "source": [
    "print(\"ᓚᘏᗢ\")\n",
    "print(\"ฅʕ•̫͡•ʔฅ\")\n",
    "print(\"ϵ( ‘Θ’ )϶\")\n",
    "print(\"(°°)～\")\n",
    "print(\"( ⓛ ω ⓛ *)\")"
   ]
  }
 ],
 "metadata": {
  "kernelspec": {
   "display_name": "Python 3",
   "language": "python",
   "name": "python3"
  },
  "language_info": {
   "codemirror_mode": {
    "name": "ipython",
    "version": 3
   },
   "file_extension": ".py",
   "mimetype": "text/x-python",
   "name": "python",
   "nbconvert_exporter": "python",
   "pygments_lexer": "ipython3",
   "version": "3.12.3"
  }
 },
 "nbformat": 4,
 "nbformat_minor": 2
}
